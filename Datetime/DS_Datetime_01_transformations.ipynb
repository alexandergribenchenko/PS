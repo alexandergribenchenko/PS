{
  "nbformat": 4,
  "nbformat_minor": 0,
  "metadata": {
    "colab": {
      "provenance": [],
      "authorship_tag": "ABX9TyPYyIYNlwBLn4UEE15wFs90",
      "include_colab_link": true
    },
    "kernelspec": {
      "name": "python3",
      "display_name": "Python 3"
    },
    "language_info": {
      "name": "python"
    }
  },
  "cells": [
    {
      "cell_type": "markdown",
      "metadata": {
        "id": "view-in-github",
        "colab_type": "text"
      },
      "source": [
        "<a href=\"https://colab.research.google.com/github/alexandergribenchenko/01_Crypto/blob/main/Datetime/DS_Datetime_01_transformations.ipynb\" target=\"_parent\"><img src=\"https://colab.research.google.com/assets/colab-badge.svg\" alt=\"Open In Colab\"/></a>"
      ]
    },
    {
      "cell_type": "markdown",
      "source": [
        "# Datetime transformations"
      ],
      "metadata": {
        "id": "P4oDh4mJqJSh"
      }
    },
    {
      "cell_type": "code",
      "source": [
        "import datetime\n",
        "import pandas as pd"
      ],
      "metadata": {
        "id": "JiSpDUkgqUSw"
      },
      "execution_count": 11,
      "outputs": []
    },
    {
      "cell_type": "markdown",
      "source": [
        "## 01. Str to Datetime"
      ],
      "metadata": {
        "id": "H3L4uA23IwCp"
      }
    },
    {
      "cell_type": "code",
      "execution_count": 5,
      "metadata": {
        "colab": {
          "base_uri": "https://localhost:8080/"
        },
        "id": "OnvX8XZHpXBb",
        "outputId": "fa103f4e-d211-45b9-d734-c466a90f56d7"
      },
      "outputs": [
        {
          "output_type": "stream",
          "name": "stdout",
          "text": [
            "2023-02-10\n",
            "2023-02-10 00:00:00\n"
          ]
        }
      ],
      "source": [
        "date_str = 'Feb 10, 2023'\n",
        "format_str = '%b %d, %Y'\n",
        "datetime_obj = datetime.datetime.strptime(date_str, format_str)\n",
        "print(datetime_obj.date())\n",
        "print(datetime_obj)"
      ]
    },
    {
      "cell_type": "code",
      "source": [
        "date_str = '05SEP2014:00:00:00.000'\n",
        "format_str = '%d%b%Y:%H:%M:%S.%f'\n",
        "datetime_obj = datetime.datetime.strptime(date_str, format_str)\n",
        "print(datetime_obj.date())\n",
        "print(datetime_obj)"
      ],
      "metadata": {
        "colab": {
          "base_uri": "https://localhost:8080/"
        },
        "id": "iB9D4kpmIiud",
        "outputId": "1706fa33-60a5-4daa-c3a5-a916ca91e361"
      },
      "execution_count": 6,
      "outputs": [
        {
          "output_type": "stream",
          "name": "stdout",
          "text": [
            "2014-09-05\n",
            "2014-09-05 00:00:00\n"
          ]
        }
      ]
    },
    {
      "cell_type": "code",
      "source": [
        "date_str = '29/12/2017'\n",
        "format_str = '%d/%m/%Y'\n",
        "datetime_obj = datetime.datetime.strptime(date_str, format_str)\n",
        "print(datetime_obj.date())\n",
        "print(datetime_obj)"
      ],
      "metadata": {
        "colab": {
          "base_uri": "https://localhost:8080/"
        },
        "id": "NRFWchNWIiqk",
        "outputId": "df921160-9b97-458f-d0cb-e274751db18e"
      },
      "execution_count": 7,
      "outputs": [
        {
          "output_type": "stream",
          "name": "stdout",
          "text": [
            "2017-12-29\n",
            "2017-12-29 00:00:00\n"
          ]
        }
      ]
    },
    {
      "cell_type": "markdown",
      "source": [
        "## 02. Column Pandas: Str to Datetime"
      ],
      "metadata": {
        "id": "uhENbRAbJH8E"
      }
    },
    {
      "cell_type": "code",
      "source": [
        "df = pd.DataFrame({'perro': ['Feb 10, 2023',\n",
        "                                'Feb 10, 2023',\n",
        "                                'Feb 10, 2023']})\n",
        "df"
      ],
      "metadata": {
        "colab": {
          "base_uri": "https://localhost:8080/",
          "height": 143
        },
        "id": "jceGE6HlJIaV",
        "outputId": "92c9bcaa-50bf-4ccd-c4e2-676da2bef53c"
      },
      "execution_count": 19,
      "outputs": [
        {
          "output_type": "execute_result",
          "data": {
            "text/plain": [
              "          perro\n",
              "0  Feb 10, 2023\n",
              "1  Feb 10, 2023\n",
              "2  Feb 10, 2023"
            ],
            "text/html": [
              "\n",
              "  <div id=\"df-47476d0c-fd65-41b2-9138-39d49b56dcc7\">\n",
              "    <div class=\"colab-df-container\">\n",
              "      <div>\n",
              "<style scoped>\n",
              "    .dataframe tbody tr th:only-of-type {\n",
              "        vertical-align: middle;\n",
              "    }\n",
              "\n",
              "    .dataframe tbody tr th {\n",
              "        vertical-align: top;\n",
              "    }\n",
              "\n",
              "    .dataframe thead th {\n",
              "        text-align: right;\n",
              "    }\n",
              "</style>\n",
              "<table border=\"1\" class=\"dataframe\">\n",
              "  <thead>\n",
              "    <tr style=\"text-align: right;\">\n",
              "      <th></th>\n",
              "      <th>perro</th>\n",
              "    </tr>\n",
              "  </thead>\n",
              "  <tbody>\n",
              "    <tr>\n",
              "      <th>0</th>\n",
              "      <td>Feb 10, 2023</td>\n",
              "    </tr>\n",
              "    <tr>\n",
              "      <th>1</th>\n",
              "      <td>Feb 10, 2023</td>\n",
              "    </tr>\n",
              "    <tr>\n",
              "      <th>2</th>\n",
              "      <td>Feb 10, 2023</td>\n",
              "    </tr>\n",
              "  </tbody>\n",
              "</table>\n",
              "</div>\n",
              "      <button class=\"colab-df-convert\" onclick=\"convertToInteractive('df-47476d0c-fd65-41b2-9138-39d49b56dcc7')\"\n",
              "              title=\"Convert this dataframe to an interactive table.\"\n",
              "              style=\"display:none;\">\n",
              "        \n",
              "  <svg xmlns=\"http://www.w3.org/2000/svg\" height=\"24px\"viewBox=\"0 0 24 24\"\n",
              "       width=\"24px\">\n",
              "    <path d=\"M0 0h24v24H0V0z\" fill=\"none\"/>\n",
              "    <path d=\"M18.56 5.44l.94 2.06.94-2.06 2.06-.94-2.06-.94-.94-2.06-.94 2.06-2.06.94zm-11 1L8.5 8.5l.94-2.06 2.06-.94-2.06-.94L8.5 2.5l-.94 2.06-2.06.94zm10 10l.94 2.06.94-2.06 2.06-.94-2.06-.94-.94-2.06-.94 2.06-2.06.94z\"/><path d=\"M17.41 7.96l-1.37-1.37c-.4-.4-.92-.59-1.43-.59-.52 0-1.04.2-1.43.59L10.3 9.45l-7.72 7.72c-.78.78-.78 2.05 0 2.83L4 21.41c.39.39.9.59 1.41.59.51 0 1.02-.2 1.41-.59l7.78-7.78 2.81-2.81c.8-.78.8-2.07 0-2.86zM5.41 20L4 18.59l7.72-7.72 1.47 1.35L5.41 20z\"/>\n",
              "  </svg>\n",
              "      </button>\n",
              "      \n",
              "  <style>\n",
              "    .colab-df-container {\n",
              "      display:flex;\n",
              "      flex-wrap:wrap;\n",
              "      gap: 12px;\n",
              "    }\n",
              "\n",
              "    .colab-df-convert {\n",
              "      background-color: #E8F0FE;\n",
              "      border: none;\n",
              "      border-radius: 50%;\n",
              "      cursor: pointer;\n",
              "      display: none;\n",
              "      fill: #1967D2;\n",
              "      height: 32px;\n",
              "      padding: 0 0 0 0;\n",
              "      width: 32px;\n",
              "    }\n",
              "\n",
              "    .colab-df-convert:hover {\n",
              "      background-color: #E2EBFA;\n",
              "      box-shadow: 0px 1px 2px rgba(60, 64, 67, 0.3), 0px 1px 3px 1px rgba(60, 64, 67, 0.15);\n",
              "      fill: #174EA6;\n",
              "    }\n",
              "\n",
              "    [theme=dark] .colab-df-convert {\n",
              "      background-color: #3B4455;\n",
              "      fill: #D2E3FC;\n",
              "    }\n",
              "\n",
              "    [theme=dark] .colab-df-convert:hover {\n",
              "      background-color: #434B5C;\n",
              "      box-shadow: 0px 1px 3px 1px rgba(0, 0, 0, 0.15);\n",
              "      filter: drop-shadow(0px 1px 2px rgba(0, 0, 0, 0.3));\n",
              "      fill: #FFFFFF;\n",
              "    }\n",
              "  </style>\n",
              "\n",
              "      <script>\n",
              "        const buttonEl =\n",
              "          document.querySelector('#df-47476d0c-fd65-41b2-9138-39d49b56dcc7 button.colab-df-convert');\n",
              "        buttonEl.style.display =\n",
              "          google.colab.kernel.accessAllowed ? 'block' : 'none';\n",
              "\n",
              "        async function convertToInteractive(key) {\n",
              "          const element = document.querySelector('#df-47476d0c-fd65-41b2-9138-39d49b56dcc7');\n",
              "          const dataTable =\n",
              "            await google.colab.kernel.invokeFunction('convertToInteractive',\n",
              "                                                     [key], {});\n",
              "          if (!dataTable) return;\n",
              "\n",
              "          const docLinkHtml = 'Like what you see? Visit the ' +\n",
              "            '<a target=\"_blank\" href=https://colab.research.google.com/notebooks/data_table.ipynb>data table notebook</a>'\n",
              "            + ' to learn more about interactive tables.';\n",
              "          element.innerHTML = '';\n",
              "          dataTable['output_type'] = 'display_data';\n",
              "          await google.colab.output.renderOutput(dataTable, element);\n",
              "          const docLink = document.createElement('div');\n",
              "          docLink.innerHTML = docLinkHtml;\n",
              "          element.appendChild(docLink);\n",
              "        }\n",
              "      </script>\n",
              "    </div>\n",
              "  </div>\n",
              "  "
            ]
          },
          "metadata": {},
          "execution_count": 19
        }
      ]
    },
    {
      "cell_type": "code",
      "source": [
        "df.info()"
      ],
      "metadata": {
        "colab": {
          "base_uri": "https://localhost:8080/"
        },
        "id": "oTMlItMdJONg",
        "outputId": "bc15ef02-772b-4660-f93b-ab0736b0744d"
      },
      "execution_count": 20,
      "outputs": [
        {
          "output_type": "stream",
          "name": "stdout",
          "text": [
            "<class 'pandas.core.frame.DataFrame'>\n",
            "RangeIndex: 3 entries, 0 to 2\n",
            "Data columns (total 1 columns):\n",
            " #   Column  Non-Null Count  Dtype \n",
            "---  ------  --------------  ----- \n",
            " 0   perro   3 non-null      object\n",
            "dtypes: object(1)\n",
            "memory usage: 152.0+ bytes\n"
          ]
        }
      ]
    },
    {
      "cell_type": "markdown",
      "source": [
        "Note que la función datetime es \"smart\", es decir, infiere sin que sea necesario el uso del parametro `format` pero se recomienda dar el formato para que sea más ágil."
      ],
      "metadata": {
        "id": "nhbp3BdZN3tH"
      }
    },
    {
      "cell_type": "code",
      "source": [
        "# df['perro'] =  pd.to_datetime(df['perro'])"
      ],
      "metadata": {
        "id": "IER_lJ2YKGaG"
      },
      "execution_count": 21,
      "outputs": []
    },
    {
      "cell_type": "code",
      "source": [
        "df['perro'] =  pd.to_datetime(df['perro'], format='%b %d, %Y')"
      ],
      "metadata": {
        "id": "KULqV5srJODV"
      },
      "execution_count": 22,
      "outputs": []
    },
    {
      "cell_type": "code",
      "source": [
        "df"
      ],
      "metadata": {
        "colab": {
          "base_uri": "https://localhost:8080/",
          "height": 143
        },
        "id": "koJfnAH6J7z1",
        "outputId": "a606854a-8ffc-4896-8b76-eca70b2b752d"
      },
      "execution_count": 23,
      "outputs": [
        {
          "output_type": "execute_result",
          "data": {
            "text/plain": [
              "       perro\n",
              "0 2023-02-10\n",
              "1 2023-02-10\n",
              "2 2023-02-10"
            ],
            "text/html": [
              "\n",
              "  <div id=\"df-853dfd89-7b12-4ec8-8c3e-ed20ec030770\">\n",
              "    <div class=\"colab-df-container\">\n",
              "      <div>\n",
              "<style scoped>\n",
              "    .dataframe tbody tr th:only-of-type {\n",
              "        vertical-align: middle;\n",
              "    }\n",
              "\n",
              "    .dataframe tbody tr th {\n",
              "        vertical-align: top;\n",
              "    }\n",
              "\n",
              "    .dataframe thead th {\n",
              "        text-align: right;\n",
              "    }\n",
              "</style>\n",
              "<table border=\"1\" class=\"dataframe\">\n",
              "  <thead>\n",
              "    <tr style=\"text-align: right;\">\n",
              "      <th></th>\n",
              "      <th>perro</th>\n",
              "    </tr>\n",
              "  </thead>\n",
              "  <tbody>\n",
              "    <tr>\n",
              "      <th>0</th>\n",
              "      <td>2023-02-10</td>\n",
              "    </tr>\n",
              "    <tr>\n",
              "      <th>1</th>\n",
              "      <td>2023-02-10</td>\n",
              "    </tr>\n",
              "    <tr>\n",
              "      <th>2</th>\n",
              "      <td>2023-02-10</td>\n",
              "    </tr>\n",
              "  </tbody>\n",
              "</table>\n",
              "</div>\n",
              "      <button class=\"colab-df-convert\" onclick=\"convertToInteractive('df-853dfd89-7b12-4ec8-8c3e-ed20ec030770')\"\n",
              "              title=\"Convert this dataframe to an interactive table.\"\n",
              "              style=\"display:none;\">\n",
              "        \n",
              "  <svg xmlns=\"http://www.w3.org/2000/svg\" height=\"24px\"viewBox=\"0 0 24 24\"\n",
              "       width=\"24px\">\n",
              "    <path d=\"M0 0h24v24H0V0z\" fill=\"none\"/>\n",
              "    <path d=\"M18.56 5.44l.94 2.06.94-2.06 2.06-.94-2.06-.94-.94-2.06-.94 2.06-2.06.94zm-11 1L8.5 8.5l.94-2.06 2.06-.94-2.06-.94L8.5 2.5l-.94 2.06-2.06.94zm10 10l.94 2.06.94-2.06 2.06-.94-2.06-.94-.94-2.06-.94 2.06-2.06.94z\"/><path d=\"M17.41 7.96l-1.37-1.37c-.4-.4-.92-.59-1.43-.59-.52 0-1.04.2-1.43.59L10.3 9.45l-7.72 7.72c-.78.78-.78 2.05 0 2.83L4 21.41c.39.39.9.59 1.41.59.51 0 1.02-.2 1.41-.59l7.78-7.78 2.81-2.81c.8-.78.8-2.07 0-2.86zM5.41 20L4 18.59l7.72-7.72 1.47 1.35L5.41 20z\"/>\n",
              "  </svg>\n",
              "      </button>\n",
              "      \n",
              "  <style>\n",
              "    .colab-df-container {\n",
              "      display:flex;\n",
              "      flex-wrap:wrap;\n",
              "      gap: 12px;\n",
              "    }\n",
              "\n",
              "    .colab-df-convert {\n",
              "      background-color: #E8F0FE;\n",
              "      border: none;\n",
              "      border-radius: 50%;\n",
              "      cursor: pointer;\n",
              "      display: none;\n",
              "      fill: #1967D2;\n",
              "      height: 32px;\n",
              "      padding: 0 0 0 0;\n",
              "      width: 32px;\n",
              "    }\n",
              "\n",
              "    .colab-df-convert:hover {\n",
              "      background-color: #E2EBFA;\n",
              "      box-shadow: 0px 1px 2px rgba(60, 64, 67, 0.3), 0px 1px 3px 1px rgba(60, 64, 67, 0.15);\n",
              "      fill: #174EA6;\n",
              "    }\n",
              "\n",
              "    [theme=dark] .colab-df-convert {\n",
              "      background-color: #3B4455;\n",
              "      fill: #D2E3FC;\n",
              "    }\n",
              "\n",
              "    [theme=dark] .colab-df-convert:hover {\n",
              "      background-color: #434B5C;\n",
              "      box-shadow: 0px 1px 3px 1px rgba(0, 0, 0, 0.15);\n",
              "      filter: drop-shadow(0px 1px 2px rgba(0, 0, 0, 0.3));\n",
              "      fill: #FFFFFF;\n",
              "    }\n",
              "  </style>\n",
              "\n",
              "      <script>\n",
              "        const buttonEl =\n",
              "          document.querySelector('#df-853dfd89-7b12-4ec8-8c3e-ed20ec030770 button.colab-df-convert');\n",
              "        buttonEl.style.display =\n",
              "          google.colab.kernel.accessAllowed ? 'block' : 'none';\n",
              "\n",
              "        async function convertToInteractive(key) {\n",
              "          const element = document.querySelector('#df-853dfd89-7b12-4ec8-8c3e-ed20ec030770');\n",
              "          const dataTable =\n",
              "            await google.colab.kernel.invokeFunction('convertToInteractive',\n",
              "                                                     [key], {});\n",
              "          if (!dataTable) return;\n",
              "\n",
              "          const docLinkHtml = 'Like what you see? Visit the ' +\n",
              "            '<a target=\"_blank\" href=https://colab.research.google.com/notebooks/data_table.ipynb>data table notebook</a>'\n",
              "            + ' to learn more about interactive tables.';\n",
              "          element.innerHTML = '';\n",
              "          dataTable['output_type'] = 'display_data';\n",
              "          await google.colab.output.renderOutput(dataTable, element);\n",
              "          const docLink = document.createElement('div');\n",
              "          docLink.innerHTML = docLinkHtml;\n",
              "          element.appendChild(docLink);\n",
              "        }\n",
              "      </script>\n",
              "    </div>\n",
              "  </div>\n",
              "  "
            ]
          },
          "metadata": {},
          "execution_count": 23
        }
      ]
    },
    {
      "cell_type": "code",
      "source": [
        "df.info()"
      ],
      "metadata": {
        "colab": {
          "base_uri": "https://localhost:8080/"
        },
        "id": "ebBFUrCmJ9oA",
        "outputId": "9e5b5f5e-99f1-41aa-e542-18d7d54d823f"
      },
      "execution_count": 24,
      "outputs": [
        {
          "output_type": "stream",
          "name": "stdout",
          "text": [
            "<class 'pandas.core.frame.DataFrame'>\n",
            "RangeIndex: 3 entries, 0 to 2\n",
            "Data columns (total 1 columns):\n",
            " #   Column  Non-Null Count  Dtype         \n",
            "---  ------  --------------  -----         \n",
            " 0   perro   3 non-null      datetime64[ns]\n",
            "dtypes: datetime64[ns](1)\n",
            "memory usage: 152.0 bytes\n"
          ]
        }
      ]
    },
    {
      "cell_type": "markdown",
      "source": [
        "# Bibliography"
      ],
      "metadata": {
        "id": "g2Ml_NH6pfzK"
      }
    },
    {
      "cell_type": "markdown",
      "source": [
        "- [Python strftime cheatsheet](https://strftime.org/)"
      ],
      "metadata": {
        "id": "JZCv1lXZpnL2"
      }
    },
    {
      "cell_type": "markdown",
      "source": [
        "\n",
        "<div class=\"reference\">\n",
        "\n",
        "<table cellpadding=\"0\" cellspacing=\"0\" border=\"0\"><colgroup><col id=\"directive\"> <col id=\"example\"> <col id=\"description\"></colgroup> \n",
        "\n",
        "<thead>\n",
        "\n",
        "<tr>\n",
        "\n",
        "<th>Code</th>\n",
        "\n",
        "<th>Example</th>\n",
        "\n",
        "<th>Description</th>\n",
        "\n",
        "</tr>\n",
        "\n",
        "</thead>\n",
        "\n",
        "<tbody>\n",
        "\n",
        "<tr>\n",
        "\n",
        "<td>`%a`</td>\n",
        "\n",
        "<td>`Sun`</td>\n",
        "\n",
        "<td>Weekday as locale’s abbreviated name.</td>\n",
        "\n",
        "</tr>\n",
        "\n",
        "<tr>\n",
        "\n",
        "<td>`%A`</td>\n",
        "\n",
        "<td>`Sunday`</td>\n",
        "\n",
        "<td>Weekday as locale’s full name.</td>\n",
        "\n",
        "</tr>\n",
        "\n",
        "<tr>\n",
        "\n",
        "<td>`%w`</td>\n",
        "\n",
        "<td>`0`</td>\n",
        "\n",
        "<td>Weekday as a decimal number, where 0 is Sunday and 6 is Saturday.</td>\n",
        "\n",
        "</tr>\n",
        "\n",
        "<tr>\n",
        "\n",
        "<td>`%d`</td>\n",
        "\n",
        "<td>`08`</td>\n",
        "\n",
        "<td>Day of the month as a zero-padded decimal number.</td>\n",
        "\n",
        "</tr>\n",
        "\n",
        "<tr>\n",
        "\n",
        "<td>`%-d`</td>\n",
        "\n",
        "<td>`8`</td>\n",
        "\n",
        "<td>Day of the month as a decimal number. (Platform specific)</td>\n",
        "\n",
        "</tr>\n",
        "\n",
        "<tr>\n",
        "\n",
        "<td>`%b`</td>\n",
        "\n",
        "<td>`Sep`</td>\n",
        "\n",
        "<td>Month as locale’s abbreviated name.</td>\n",
        "\n",
        "</tr>\n",
        "\n",
        "<tr>\n",
        "\n",
        "<td>`%B`</td>\n",
        "\n",
        "<td>`September`</td>\n",
        "\n",
        "<td>Month as locale’s full name.</td>\n",
        "\n",
        "</tr>\n",
        "\n",
        "<tr>\n",
        "\n",
        "<td>`%m`</td>\n",
        "\n",
        "<td>`09`</td>\n",
        "\n",
        "<td>Month as a zero-padded decimal number.</td>\n",
        "\n",
        "</tr>\n",
        "\n",
        "<tr>\n",
        "\n",
        "<td>`%-m`</td>\n",
        "\n",
        "<td>`9`</td>\n",
        "\n",
        "<td>Month as a decimal number. (Platform specific)</td>\n",
        "\n",
        "</tr>\n",
        "\n",
        "<tr>\n",
        "\n",
        "<td>`%y`</td>\n",
        "\n",
        "<td>`13`</td>\n",
        "\n",
        "<td>Year without century as a zero-padded decimal number.</td>\n",
        "\n",
        "</tr>\n",
        "\n",
        "<tr>\n",
        "\n",
        "<td>`%Y`</td>\n",
        "\n",
        "<td>`2013`</td>\n",
        "\n",
        "<td>Year with century as a decimal number.</td>\n",
        "\n",
        "</tr>\n",
        "\n",
        "<tr>\n",
        "\n",
        "<td>`%H`</td>\n",
        "\n",
        "<td>`07`</td>\n",
        "\n",
        "<td>Hour (24-hour clock) as a zero-padded decimal number.</td>\n",
        "\n",
        "</tr>\n",
        "\n",
        "<tr>\n",
        "\n",
        "<td>`%-H`</td>\n",
        "\n",
        "<td>`7`</td>\n",
        "\n",
        "<td>Hour (24-hour clock) as a decimal number. (Platform specific)</td>\n",
        "\n",
        "</tr>\n",
        "\n",
        "<tr>\n",
        "\n",
        "<td>`%I`</td>\n",
        "\n",
        "<td>`07`</td>\n",
        "\n",
        "<td>Hour (12-hour clock) as a zero-padded decimal number.</td>\n",
        "\n",
        "</tr>\n",
        "\n",
        "<tr>\n",
        "\n",
        "<td>`%-I`</td>\n",
        "\n",
        "<td>`7`</td>\n",
        "\n",
        "<td>Hour (12-hour clock) as a decimal number. (Platform specific)</td>\n",
        "\n",
        "</tr>\n",
        "\n",
        "<tr>\n",
        "\n",
        "<td>`%p`</td>\n",
        "\n",
        "<td>`AM`</td>\n",
        "\n",
        "<td>Locale’s equivalent of either AM or PM.</td>\n",
        "\n",
        "</tr>\n",
        "\n",
        "<tr>\n",
        "\n",
        "<td>`%M`</td>\n",
        "\n",
        "<td>`06`</td>\n",
        "\n",
        "<td>Minute as a zero-padded decimal number.</td>\n",
        "\n",
        "</tr>\n",
        "\n",
        "<tr>\n",
        "\n",
        "<td>`%-M`</td>\n",
        "\n",
        "<td>`6`</td>\n",
        "\n",
        "<td>Minute as a decimal number. (Platform specific)</td>\n",
        "\n",
        "</tr>\n",
        "\n",
        "<tr>\n",
        "\n",
        "<td>`%S`</td>\n",
        "\n",
        "<td>`05`</td>\n",
        "\n",
        "<td>Second as a zero-padded decimal number.</td>\n",
        "\n",
        "</tr>\n",
        "\n",
        "<tr>\n",
        "\n",
        "<td>`%-S`</td>\n",
        "\n",
        "<td>`5`</td>\n",
        "\n",
        "<td>Second as a decimal number. (Platform specific)</td>\n",
        "\n",
        "</tr>\n",
        "\n",
        "<tr>\n",
        "\n",
        "<td>`%f`</td>\n",
        "\n",
        "<td>`000000`</td>\n",
        "\n",
        "<td>Microsecond as a decimal number, zero-padded on the left.</td>\n",
        "\n",
        "</tr>\n",
        "\n",
        "<tr>\n",
        "\n",
        "<td>`%z`</td>\n",
        "\n",
        "<td>`+0000`</td>\n",
        "\n",
        "<td>UTC offset in the form ±HHMM[SS[.ffffff]] (empty string if the object is naive).</td>\n",
        "\n",
        "</tr>\n",
        "\n",
        "<tr>\n",
        "\n",
        "<td>`%Z`</td>\n",
        "\n",
        "<td>`UTC`</td>\n",
        "\n",
        "<td>Time zone name (empty string if the object is naive).</td>\n",
        "\n",
        "</tr>\n",
        "\n",
        "<tr>\n",
        "\n",
        "<td>`%j`</td>\n",
        "\n",
        "<td>`251`</td>\n",
        "\n",
        "<td>Day of the year as a zero-padded decimal number.</td>\n",
        "\n",
        "</tr>\n",
        "\n",
        "<tr>\n",
        "\n",
        "<td>`%-j`</td>\n",
        "\n",
        "<td>`251`</td>\n",
        "\n",
        "<td>Day of the year as a decimal number. (Platform specific)</td>\n",
        "\n",
        "</tr>\n",
        "\n",
        "<tr>\n",
        "\n",
        "<td>`%U`</td>\n",
        "\n",
        "<td>`36`</td>\n",
        "\n",
        "<td>Week number of the year (Sunday as the first day of the week) as a zero padded decimal number. All days in a new year preceding the first Sunday are considered to be in week 0.</td>\n",
        "\n",
        "</tr>\n",
        "\n",
        "<tr>\n",
        "\n",
        "<td>`%W`</td>\n",
        "\n",
        "<td>`35`</td>\n",
        "\n",
        "<td>Week number of the year (Monday as the first day of the week) as a decimal number. All days in a new year preceding the first Monday are considered to be in week 0.</td>\n",
        "\n",
        "</tr>\n",
        "\n",
        "<tr>\n",
        "\n",
        "<td>`%c`</td>\n",
        "\n",
        "<td>`Sun Sep 8 07:06:05 2013`</td>\n",
        "\n",
        "<td>Locale’s appropriate date and time representation.</td>\n",
        "\n",
        "</tr>\n",
        "\n",
        "<tr>\n",
        "\n",
        "<td>`%x`</td>\n",
        "\n",
        "<td>`09/08/13`</td>\n",
        "\n",
        "<td>Locale’s appropriate date representation.</td>\n",
        "\n",
        "</tr>\n",
        "\n",
        "<tr>\n",
        "\n",
        "<td>`%X`</td>\n",
        "\n",
        "<td>`07:06:05`</td>\n",
        "\n",
        "<td>Locale’s appropriate time representation.</td>\n",
        "\n",
        "</tr>\n",
        "\n",
        "<tr>\n",
        "\n",
        "<td>`%%`</td>\n",
        "\n",
        "<td>`%`</td>\n",
        "\n",
        "<td>A literal '%' character.</td>\n",
        "\n",
        "</tr>\n",
        "\n",
        "</tbody>\n",
        "\n",
        "</table>\n",
        "\n",
        "</div>"
      ],
      "metadata": {
        "id": "f7M-fyEYGTxe"
      }
    }
  ]
}